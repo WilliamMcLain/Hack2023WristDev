# -*- coding: utf-8 -*-
"""
Created on Sun Oct 29 05:05:07 2023

@author: mclai
"""

