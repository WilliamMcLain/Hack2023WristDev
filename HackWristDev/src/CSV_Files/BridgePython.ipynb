{
 "cells": [
  {
   "cell_type": "code",
   "execution_count": 37,
   "id": "f9d131dd",
   "metadata": {},
   "outputs": [
    {
     "name": "stdout",
     "output_type": "stream",
     "text": [
      "ConnectedCOM4\n",
      "File Created\n",
      "1.36\n",
      "291.13\n",
      "387.51\n",
      "378.21\n",
      "549.18\n",
      "634.22\n",
      "173.11\n",
      "169.32\n",
      "83.30\n",
      "166.38\n",
      "131.31\n"
     ]
    }
   ],
   "source": [
    "import serial\n",
    "\n",
    "arduino_port = \"COM4\"\n",
    "baud=115200\n",
    "filename = \"InputData.csv\"\n",
    "samples=10\n",
    "print_labels=False\n",
    "\n",
    "ser=serial.Serial(arduino_port,baud)\n",
    "print(\"Connected\"+arduino_port)\n",
    "file=open(filename,\"w\")\n",
    "print(\"File Created\")\n",
    "\n",
    "line=0\n",
    "\n",
    "while line<=samples:\n",
    "    if print_labels:\n",
    "        if line==0:\n",
    "            print(\"printing columns\")\n",
    "        else:\n",
    "            print(\"Line\"+str(line))\n",
    "    getdata=str(ser.readline())\n",
    "    data=getdata[0:][:-2]\n",
    "    data = data[2:-3]\n",
    "    print(data)\n",
    "    file=open(filename, \"a\")\n",
    "    file.write(data+\"\\n\")\n",
    "    line=line+1;\n"
   ]
  },
  {
   "cell_type": "code",
   "execution_count": null,
   "id": "b7826535",
   "metadata": {
    "scrolled": true
   },
   "outputs": [],
   "source": []
  },
  {
   "cell_type": "code",
   "execution_count": 91,
   "id": "abdf6878",
   "metadata": {
    "scrolled": true
   },
   "outputs": [
    {
     "name": "stdout",
     "output_type": "stream",
     "text": [
     ]
    }
   ],
   "source": [
    "import numpy as np\n",
    "import pandas as pd\n",
    "from sklearn.model_selection import train_test_split\n",
    "from sklearn.linear_model import LogisticRegression\n",
    "\n",
    "X_good = pd.read_csv(\"GoodData.csv\")\n",
    "X_bad = pd.read_csv(\"BadData.csv\")\n",
    "\n",
    "X_combined = np.vstack((X_good, X_bad))\n",
    "y_combined = np.concatenate((np.ones(len(X_good)), np.zeros(len(X_bad))))\n",
    "\n",
    "X_train, X_test, y_train, y_test = train_test_split(X_combined, y_combined, test_size=0.2)\n",
    "\n",
    "model = LogisticRegression(solver='lbfgs', multi_class='multinomial')\n",
    "model.fit(X_train, y_train)\n",
    "                            \n",
    "accuracy = model.score(X_test, y_test)\n",
    "\n",
    "fileName = \"Accuracy.csv\"\n",
    "\n",
    "file=open(fileName, \"w\")\n",
    "file.write(str(accuracy))"
   ]
  },
  {
   "cell_type": "code",
   "execution_count": 105,
   "id": "68bcc49d",
   "metadata": {
    "scrolled": true
   },
   "outputs": [],
   "source": [
    "inputData = np.genfromtxt(\"InputData.csv\", delimiter=',')\n",
    "outputData = []\n",
    "\n",
    "for i in inputData:\n",
    "    x = float(i)\n",
    "    class_probabilities = model.predict_proba(np.array(x).reshape(1, -1))\n",
    "    w_good = class_probabilities[0, 1]\n",
    "    w_bad = class_probabilities[0, 0]\n",
    "    \n",
    "    if(w_good > w_bad):\n",
    "        outputData.append((i, 'good'))\n",
    "        \n",
    "    else:\n",
    "        outputData.append((i, 'bad'))\n",
    "        \n",
    "fileName = \"Response.csv\"\n",
    "file=open(fileName,\"w\")\n",
    "for k in outputData:\n",
    "    file=open(fileName, \"a\")\n",
    "    file.write(str(k)+\"\\n\")"
   ]
  },
  {
   "cell_type": "code",
   "execution_count": null,
   "id": "5fce33e8",
   "metadata": {},
   "outputs": [],
   "source": []
  }
 ],
 "metadata": {
  "kernelspec": {
   "display_name": "Python 3 (ipykernel)",
   "language": "python",
   "name": "python3"
  },
  "language_info": {
   "codemirror_mode": {
    "name": "ipython",
    "version": 3
   },
   "file_extension": ".py",
   "mimetype": "text/x-python",
   "name": "python",
   "nbconvert_exporter": "python",
   "pygments_lexer": "ipython3",
   "version": "3.10.9"
  }
 },
 "nbformat": 4,
 "nbformat_minor": 5
}
